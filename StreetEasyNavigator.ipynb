{
 "cells": [
  {
   "cell_type": "markdown",
   "metadata": {},
   "source": [
    "Street Easy Project Notebook WIP\n",
    "\n",
    "Pedro Vincenty"
   ]
  },
  {
   "cell_type": "code",
   "execution_count": null,
   "metadata": {},
   "outputs": [],
   "source": [
    "#import relevant libraries\n",
    "from selenium import webdriver\n",
    "from selenium.common.exceptions import NoSuchElementException\n",
    "from selenium.common.exceptions import ElementClickInterceptedException\n",
    "from selenium.webdriver.common.action_chains import ActionChains\n",
    "from selenium.webdriver.common.by import By\n",
    "from selenium.webdriver.chrome.service import Service\n",
    "from selenium.webdriver.support.ui import WebDriverWait\n",
    "from selenium.webdriver.support import expected_conditions as EC\n",
    "import time \n",
    "from bs4 import BeautifulSoup\n",
    "import json\n",
    "import pandas as pd\n",
    "import xlsxwriter\n",
    "from datetime import datetime\n",
    "import math\n",
    "import undetected_chromedriver as uc\n"
   ]
  },
  {
   "cell_type": "code",
   "execution_count": null,
   "metadata": {},
   "outputs": [],
   "source": [
    "#Input budget and error handling to capture correct format\n",
    "while True:    \n",
    "    try:\n",
    "        budget = int(input(\"What\\'s your budget in USD? (e.g. 2000, 2200.  Minimum budget is 500)\"))\n",
    "        if budget < 500:\n",
    "            print(\"No apartment listing is that cheap :/  Enter a budget of atleast 500 USD\")\n",
    "        else:\n",
    "            formatted_number = \"${:,.0f}\".format(budget) #<<Number is formatted to match drop down values in 'Maximum Price'>>\n",
    "            break\n",
    "    except ValueError:\n",
    "        print(\"Please enter a valid input (e.g. 2000, 2200)\")"
   ]
  },
  {
   "cell_type": "code",
   "execution_count": null,
   "metadata": {},
   "outputs": [],
   "source": [
    "#Capture number of beds\n",
    "while True:    \n",
    "    try:\n",
    "        beds = int(input(\"Indicate number of bedrooms (4 or less) or 'Studio' for your search.\"))\n",
    "        if beds in range(1,5):\n",
    "            break\n",
    "        else:\n",
    "            print(\"Please enter a valid number of bedrooms (4 or less) or Studio for your search.\")\n",
    "    #Bandaid way to capture studio\n",
    "    except ValueError:\n",
    "        beds = 'Studio'\n",
    "        break"
   ]
  },
  {
   "cell_type": "code",
   "execution_count": null,
   "metadata": {},
   "outputs": [],
   "source": [
    "#User inputs neighborhood\n",
    "#if multiple seperate by comma\n",
    "neighborhood = input('Choose a neighborhood')\n",
    "neighborhood = neighborhood.title().split(', ')"
   ]
  },
  {
   "cell_type": "code",
   "execution_count": null,
   "metadata": {},
   "outputs": [],
   "source": [
    "# Implementing the code below as 'bot detection' pop ups would interfere with my program.  Detection protocols still persist - \n",
    "# the program has to be restarted if instance occurs\n",
    "# source for below code: https://www.zenrows.com/blog/selenium-avoid-bot-detection#how-anti-bots-work\n",
    "\n",
    "# Create Chromeoptions instance \n",
    "options = webdriver.ChromeOptions() \n",
    " \n",
    "# # Adding argument to disable the AutomationControlled flag \n",
    "# options.add_argument(\"--disable-blink-features=AutomationControlled\") \n",
    " \n",
    "# # Exclude the collection of enable-automation switches \n",
    "# options.add_experimental_option(\"excludeSwitches\", [\"enable-automation\"]) \n",
    " \n",
    "# # Turn-off userAutomationExtension \n",
    "# options.add_experimental_option(\"useAutomationExtension\", False) \n",
    " \n",
    "# Setting the driver path and requesting a page \n",
    "driver = webdriver.Chrome(options=options) \n",
    " \n",
    "# Changing the property of the navigator value for webdriver to undefined \n",
    "# driver.execute_script(\"Object.defineProperty(navigator, 'webdriver', {get: () => undefined})\") \n",
    " \n",
    "link = \"https://streeteasy.com/\"\n",
    "\n",
    "# Go to streeteasy.com\n",
    "driver.get(link)\n",
    "\n",
    "driver.maximize_window()\n"
   ]
  },
  {
   "cell_type": "code",
   "execution_count": null,
   "metadata": {},
   "outputs": [],
   "source": [
    "# Define a function to click on xp path\n",
    "def xpath_click(xp):\n",
    "    time.sleep(1)\n",
    "    driver.find_element(By.XPATH,xp).click()"
   ]
  },
  {
   "cell_type": "code",
   "execution_count": null,
   "metadata": {},
   "outputs": [],
   "source": [
    "#Click search neighborhood bar\n",
    "xp = \"//button[@class='styled__Trigger-sc-17kdwb4-0 jYBvIf']\"\n",
    "xpath_click(xp)"
   ]
  },
  {
   "cell_type": "code",
   "execution_count": null,
   "metadata": {},
   "outputs": [],
   "source": [
    "##This does it - to fix the issue of one worded neighborhoods click on the child of the ul items who's innertext matches the neighborhoodvalue\n",
    "\n",
    "inputElement = driver.find_element(By.XPATH,\"//input[@class='styled__Input-rx5fk3-1 dsKxbI styled__Combobox-sc-13cfbmj-0 eiptWM']\")\n",
    "try:\n",
    "    for i in neighborhood:\n",
    "        inputElement.send_keys(i)\n",
    "        xpathNeighborhoodParent = \"//ul[@id='location-search-listbox']\"\n",
    "        parentNeighborhood = driver.find_element(By.XPATH,xpathNeighborhoodParent)\n",
    "        # Construct the XPath expression for the specific child based on text\n",
    "        xpath_specific_child = f\".//*[text()='{i}']\"\n",
    "\n",
    "        # Find the specific child element\n",
    "        specific_child_element = parentNeighborhood.find_element(By.XPATH, xpath_specific_child)\n",
    "\n",
    "        # Click the specific child element\n",
    "        specific_child_element.click()\n",
    "except NoSuchElementException:\n",
    "    print(\"Please enter a valid borough or neighborhood.\\nRestart the program and try 'upper east side', 'Tribeca', 'williamsburg'\")\n"
   ]
  },
  {
   "cell_type": "code",
   "execution_count": null,
   "metadata": {},
   "outputs": [],
   "source": [
    "# Hits 'Done' so desired neighborhoods are registered\n",
    "xp = \"//button[@class='styled__ButtonActionBase-sc-1y07t72-1 iXfPo styled__Apply-sc-46qus7-6 kSVIHP']\"\n",
    "xpath_click(xp)\n"
   ]
  },
  {
   "cell_type": "code",
   "execution_count": null,
   "metadata": {},
   "outputs": [],
   "source": [
    "# Clicks on the max price dropdown to incorporate the user's budget\n",
    "xp = \"//input[@name='max']\"\n",
    "xpath_click(xp)"
   ]
  },
  {
   "cell_type": "code",
   "execution_count": null,
   "metadata": {},
   "outputs": [],
   "source": [
    "# Get the drop down values of prices \n",
    "prices = []\n",
    "xpath_budget = \"//li[@class='Typography__Body-sc-100sue7-0 styled__Option-sc-11fgb4v-3 bifKRW fwaebO']\"\n",
    "elements = driver.find_elements(By.XPATH, xpath_budget)\n",
    "for i in elements:\n",
    "    prices.append(i.get_attribute('innerHTML'))\n",
    "#Turns list into integers to create index in next block of code\n",
    "integer_list = [int(''.join(filter(str.isdigit, s))) for s in prices]"
   ]
  },
  {
   "cell_type": "code",
   "execution_count": null,
   "metadata": {},
   "outputs": [],
   "source": [
    "# if a user provides an input that's not included in the drop down to take the next highest value.  \n",
    "closestIndex = next((x for x in integer_list if x >= budget), budget)\n",
    "closestIndexFormatted = \"${:,.0f}\".format(closestIndex) #<<Number is formatted to match drop down values in 'Maximum Price'>>"
   ]
  },
  {
   "cell_type": "code",
   "execution_count": null,
   "metadata": {},
   "outputs": [],
   "source": [
    "# Trick to find the element that contains the provided budget\n",
    "# Then somewhere below filterout apartments slightly above budget\n",
    "# ** Need to disable 'focusout' and 'blur' event listeners won't run otherwise.  Implement this within code.\n",
    "# ^FALSE - just click on the target child element through calling the parent element\n",
    "\n",
    "# xpathBudgetParent = \"//ul[@class='styled__Datalist-sc-11fgb4v-2 edORTp']\"\n",
    "# parentBudget = driver.find_element(By.XPATH,xpathBudgetParent)\n",
    "\n",
    "# Construct the XPath expression for the specific child based on text\n",
    "xpathBudgetChildPath = f\"//ul[@id='TextField-withTextarea-listbox']//li[contains(text(), '{closestIndexFormatted}')]\"\n",
    "\n",
    "# Find the specific child element\n",
    "specificChildElement = driver.find_element(By.XPATH, xpathBudgetChildPath)\n",
    "\n",
    "# Click the specific child element\n",
    "specificChildElement.click()"
   ]
  },
  {
   "cell_type": "code",
   "execution_count": null,
   "metadata": {},
   "outputs": [],
   "source": [
    "#Hit Search\n",
    "# Won't hit search if going back and forth between vs code and chrome\n",
    "xp = \"//button[@class='styled__ButtonActionBase-sc-1y07t72-1 iXfPo styled__SearchButton-sc-1v106as-9 bNZexs']\"\n",
    "searchButton = driver.find_element(By.XPATH,xp)\n",
    "# searchButton.click()\n",
    "#childNeighborhood = parentNeighborhood.find_elements(By.XPATH, \"./*\")\n",
    "# Construct the XPath expression for the specific child based on text\n",
    "searchButtonChildPath = \"//i[@class='styled__Icon-sc-14klawj-0 erxHVj fa fa-search styled__SearchIcon-sc-1v106as-10 izzUWB']\"\n",
    "# # Find the specific child element\n",
    "specific_search_button = searchButton.find_element(By.XPATH, searchButtonChildPath)\n",
    "specific_search_button.click()\n",
    "# xp = \"//button[@class='styled__ButtonActionBase-sc-1y07t72-1 iXfPo styled__SearchButton-sc-1v106as-9 bNZexs']\"\n",
    "# searchButton = WebDriverWait(driver, 10).until(EC.element_to_be_clickable((By.XPATH, xp)))\n",
    "# searchButton.click()\n",
    "\n",
    "# Click the specific child element\n",
    "#specific_search_button.click()\n"
   ]
  },
  {
   "cell_type": "code",
   "execution_count": null,
   "metadata": {},
   "outputs": [],
   "source": [
    "# Hit Beds drop down\n",
    "time.sleep(3)\n",
    "xp = \"//button[@aria-label='Beds / Baths']\"\n",
    "driver.find_element(By.XPATH,xp).click()"
   ]
  },
  {
   "cell_type": "code",
   "execution_count": null,
   "metadata": {},
   "outputs": [],
   "source": [
    "# Hit number of beds per user's input\n",
    "# Eureka - click on parent if element is intercepted.  Makes sense no?\n",
    "# https://www.educba.com/xpath-parent/\n",
    "xp = f\"//input[@value='{beds}']\"\n",
    "test = driver.find_element(By.XPATH,xp)\n",
    "test.find_element(By.XPATH,\"./..\").click()\n"
   ]
  },
  {
   "cell_type": "code",
   "execution_count": null,
   "metadata": {},
   "outputs": [],
   "source": [
    "#Hit Done for beds\n",
    "xp = \"//button[@aria-label='Done']\"\n",
    "time.sleep(.5)\n",
    "driver.find_element(By.XPATH,xp).click()"
   ]
  },
  {
   "cell_type": "markdown",
   "metadata": {},
   "source": [
    "----------"
   ]
  },
  {
   "cell_type": "markdown",
   "metadata": {},
   "source": [
    "Scrapping Part"
   ]
  },
  {
   "cell_type": "code",
   "execution_count": null,
   "metadata": {},
   "outputs": [],
   "source": [
    "# Define page source and initialize beautiful soup \n",
    "page_source = driver.page_source\n",
    "soup = BeautifulSoup(page_source, 'html.parser')\n",
    "apartments_content = soup.find_all('div', class_=\"listingCardBottom--upperBlock\")"
   ]
  },
  {
   "cell_type": "code",
   "execution_count": null,
   "metadata": {},
   "outputs": [],
   "source": [
    "# Define function that clicks for next page a \"number of pages - 1\" number of times so there isn't an error thrown when the program searches to\n",
    "# Doesn't click next when the button is non existent\n",
    "# else clause clicks for the next page and checks if next page xpath exists and loops accordingly.\n",
    "def stop_extra_click(i, page_num):\n",
    "    if i == page_num-1:\n",
    "        time.sleep(2)\n",
    "        return True\n",
    "    elif page_num ==1:\n",
    "        time.sleep(2)\n",
    "        return True\n",
    "    else:\n",
    "        try:\n",
    "            time.sleep(2)\n",
    "            driver.find_element(By.XPATH,xp).click()\n",
    "            return False\n",
    "        # Was getting errors that the element I was searching for wasn't available due to it being 'covered'\n",
    "        # Thanks to ChatGPT I learned about the ActionChains package and the below syntax\n",
    "        except ElementClickInterceptedException:\n",
    "            time.sleep(2)\n",
    "            action_chains = ActionChains(driver)\n",
    "            action_chains.move_to_element(driver.find_element(By.XPATH,xp)).click().perform()\n",
    "            return False\n",
    "        except NoSuchElementException:\n",
    "            time.sleep(2)\n",
    "            print(\"Reached end of apartment listings\")\n",
    "            return True"
   ]
  },
  {
   "cell_type": "code",
   "execution_count": null,
   "metadata": {},
   "outputs": [],
   "source": [
    "# Get the number of pages that resulted from the user's search.  This will define the number of loops the program will run\n",
    "pages = soup.find_all('li', class_='page')\n",
    "try:\n",
    "    page_num = pages[-1].text.strip()\n",
    "    page_num = int(page_num)\n",
    "except IndexError:\n",
    "    page_num = 1\n"
   ]
  },
  {
   "cell_type": "code",
   "execution_count": null,
   "metadata": {},
   "outputs": [],
   "source": [
    "# xpath for 'click next' button\n",
    "xp = \"//li[@class ='next']\"\n",
    "# Lists to capture relevant data\n",
    "addyList = []\n",
    "prices = []\n",
    "fees=[]\n",
    "links = []\n",
    "#Loop to cycle through all pages\n",
    "for i in range(page_num):\n",
    "    # Take content from each apartment\n",
    "    for apartment in apartments_content:\n",
    "        addy = apartment.find('address',{'class':'listingCard-addressLabel listingCard-upperShortLabel'}).text.strip() # <<Get address>>\n",
    "        price = apartment.find('span',{'class':'price listingCard-priceMargin'}).text.strip() # <<< Get price >>>\n",
    "        fee = apartment.find('span',{'class':'NoFeeBadge NoFeeBadge--SRPCard'}) # <<< Get fee instance>>>\n",
    "        if apartment.find('span',{'class':'NoFeeBadge NoFeeBadge--SRPCard'}) is None: #<< is there's no fee an error is thrown, so use below logic to render 'FEE'\n",
    "            fee = 'FEE'\n",
    "        else:\n",
    "            fee = fee.text.strip() # <<< will return 'No Fee' >>>\n",
    "        link = apartment.find('a').attrs.get('href')# <<< Get the link to the apartment listing  >>>\n",
    "        addyList.append(addy)\n",
    "        prices.append(price)\n",
    "        fees.append(fee)\n",
    "        links.append(link)\n",
    "\n",
    "    #logic to break out of loop \n",
    "    #time.sleep(1)   \n",
    "    if stop_extra_click(i,page_num) == True:\n",
    "        break"
   ]
  },
  {
   "cell_type": "markdown",
   "metadata": {},
   "source": [
    "-------------"
   ]
  },
  {
   "cell_type": "markdown",
   "metadata": {},
   "source": [
    "Data Framing"
   ]
  },
  {
   "cell_type": "code",
   "execution_count": null,
   "metadata": {},
   "outputs": [],
   "source": [
    "#create out list that will be a list of dicionaries\n",
    "listings = []\n",
    "#for loop that creates list of dictionaries\n",
    "for i in range(0,len(addyList)):\n",
    "    data = {\n",
    "    'addy': addyList[i],\n",
    "    'price':prices[i],\n",
    "    'fee':fees[i],\n",
    "    'link':links[i],\n",
    "    }\n",
    "    listings.append(data)\n"
   ]
  },
  {
   "cell_type": "code",
   "execution_count": null,
   "metadata": {},
   "outputs": [],
   "source": [
    "#Convert prices to numeric values so prices over budget are filtered out in the next block\n",
    "for obj in listings:\n",
    "    obj['price'] = int(obj['price'].replace('$', '').replace(',', ''))"
   ]
  },
  {
   "cell_type": "code",
   "execution_count": null,
   "metadata": {},
   "outputs": [],
   "source": [
    "#In the event no listings are posted this block of code catches the KeyError\n",
    "try:\n",
    "    listings = pd.DataFrame(listings)\n",
    "    listings = listings[listings['price']<= budget]\n",
    "    listings['price'] = listings['price'].map('${:,}'.format)\n",
    "    listings.set_index('price', inplace = True)\n",
    "except KeyError:\n",
    "    print('No listings are available per your preferences')\n"
   ]
  },
  {
   "cell_type": "code",
   "execution_count": null,
   "metadata": {},
   "outputs": [],
   "source": [
    "excel_file = f'{datetime.now().strftime(\"%B %d %Y\")} Listings.xlsx'\n",
    "\n",
    "# Open the Excel file with XlsxWriter engine for further customization\n",
    "with pd.ExcelWriter(excel_file, engine='xlsxwriter') as writer:\n",
    "    listings.to_excel(writer, sheet_name='Sheet1')\n",
    "\n",
    "    #get the xlsxwriter workbook and worksheet objects\n",
    "    workbook = writer.book\n",
    "    worksheet = writer.sheets['Sheet1']\n",
    "\n",
    "    #get the number of rows of the DataFrame\n",
    "    num_rows=listings.shape[0]\n",
    "\n",
    "    #hyperlink format\n",
    "    hyperlink_format = workbook.add_format({'color': 'blue', 'underline': True})\n",
    "\n",
    "    #add hyperlinks to the 'link' column\n",
    "    for row_num in range(1, num_rows + 1):\n",
    "        try:\n",
    "            hyperlink_formula = f'=HYPERLINK(\"{listings.at[row_num, \"link\"]}\", \"{listings.at[row_num, \"link\"]}\")'\n",
    "            worksheet.write_formula(row_num, listings.columns.get_loc('link'), hyperlink_formula, hyperlink_format)\n",
    "        except KeyError:\n",
    "            pass\n",
    "\n",
    "print(f\"DataFrame with clickable links has been written to {excel_file}\")"
   ]
  },
  {
   "cell_type": "markdown",
   "metadata": {},
   "source": [
    "<a class=\"listingCard-globalLink jsGlobalListingCardLink\" aria-labelledby=\"info-4289956\" data-label-id=\"4289956-organic\" se:behavior=\"hoverable selectable mappable\" se:map=\"map\" se:map:point=\"40.7678212,-73.95453409\" data-map-points=\"40.7678212,-73.95453409\" href=\"https://streeteasy.com/building/418-east-73-street-new_york/5fe\" current-map-bounds=\"{&quot;northLat&quot;:40.81161383431982,&quot;southLat&quot;:40.74336863832152,&quot;eastLng&quot;:-73.89481525878908,&quot;westLng&quot;:-74.01978474121096}\" current-map-center=\"{&quot;northSouthLat&quot;:40.7775,&quot;eastWestLng&quot;:-73.9573}\"></a>"
   ]
  }
 ],
 "metadata": {
  "kernelspec": {
   "display_name": "Python 3",
   "language": "python",
   "name": "python3"
  },
  "language_info": {
   "codemirror_mode": {
    "name": "ipython",
    "version": 3
   },
   "file_extension": ".py",
   "mimetype": "text/x-python",
   "name": "python",
   "nbconvert_exporter": "python",
   "pygments_lexer": "ipython3",
   "version": "3.10.7"
  },
  "orig_nbformat": 4
 },
 "nbformat": 4,
 "nbformat_minor": 2
}
